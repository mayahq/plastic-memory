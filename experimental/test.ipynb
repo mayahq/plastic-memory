{
 "cells": [
  {
   "cell_type": "code",
   "execution_count": 86,
   "metadata": {},
   "outputs": [
    {
     "data": {
      "text/plain": [
       "16"
      ]
     },
     "execution_count": 86,
     "metadata": {},
     "output_type": "execute_result"
    }
   ],
   "source": [
    "from lisp import parse, eval\n",
    "\n",
    "node1 = \"(define a (lambda (x) (+ 1 x)))\"\n",
    "node2 = \"(define b (lambda (x) (+ 2 x)))\"\n",
    "node3 = \"(define c (lambda (x) (+ 3 x)))\"\n",
    "node4 = \"(define d (lambda (x) (+ 4 x)))\"\n",
    "\n",
    "eval(parse(node1))\n",
    "eval(parse(node2))\n",
    "eval(parse(node3))\n",
    "eval(parse(node4))\n",
    "\n",
    "eval(parse(\"(a (b (c 10)))\"))\n"
   ]
  },
  {
   "cell_type": "code",
   "execution_count": 47,
   "metadata": {},
   "outputs": [
    {
     "data": {
      "text/plain": [
       "['a', ['b', ['c', 10]]]"
      ]
     },
     "execution_count": 47,
     "metadata": {},
     "output_type": "execute_result"
    }
   ],
   "source": [
    "parse_tree = parse(\"(a (b (c 10)))\")\n",
    "parse_tree"
   ]
  },
  {
   "cell_type": "code",
   "execution_count": 48,
   "metadata": {},
   "outputs": [
    {
     "data": {
      "text/plain": [
       "['a', ['b', ['d', 10]]]"
      ]
     },
     "execution_count": 48,
     "metadata": {},
     "output_type": "execute_result"
    }
   ],
   "source": [
    "parse_tree = parse(\"(a (b (d 10)))\")\n",
    "parse_tree"
   ]
  },
  {
   "cell_type": "code",
   "execution_count": 56,
   "metadata": {},
   "outputs": [
    {
     "data": {
      "text/plain": [
       "13"
      ]
     },
     "execution_count": 56,
     "metadata": {},
     "output_type": "execute_result"
    }
   ],
   "source": [
    "eval(parse(\"(c 10)\"))"
   ]
  },
  {
   "cell_type": "code",
   "execution_count": 42,
   "metadata": {},
   "outputs": [
    {
     "name": "stdout",
     "output_type": "stream",
     "text": [
      "node_a\n",
      "['node_b', ['node_c', 10]]\n",
      "node_b\n",
      "['node_c', 10]\n",
      "node_c\n",
      "10\n"
     ]
    }
   ],
   "source": [
    "import networkx as nx\n",
    "\n",
    "def add_edges(parse_tree, graph : nx.DiGraph):\n",
    "    for item in parse_tree:\n",
    "        print(item)\n",
    "        if isinstance(item, list):\n",
    "            add_edges(item, graph)\n",
    "\n",
    "parse_tree = parse(\"(node_a (node_b (node_c 10)))\")\n",
    "G = nx.DiGraph()\n",
    "add_edges(parse_tree=parse_tree, graph=G)\n",
    "\n"
   ]
  },
  {
   "cell_type": "code",
   "execution_count": 62,
   "metadata": {},
   "outputs": [
    {
     "data": {
      "text/plain": [
       "[1, 5, 2, 6, 3, 7, 4, 8]"
      ]
     },
     "execution_count": 62,
     "metadata": {},
     "output_type": "execute_result"
    }
   ],
   "source": [
    "combine = \"\"\"(define combine (lambda (f)\n",
    "    (lambda (x y)\n",
    "      (if (null? x) (quote ())\n",
    "          (f (list (car x) (car y))\n",
    "             ((combine f) (cdr x) (cdr y)))))))\"\"\"\n",
    "\n",
    "shuffle = \"\"\"(define riff-shuffle (lambda (deck) (begin\n",
    "    (define take (lambda (n seq) (if (<= n 0) (quote ()) (cons (car seq) (take (- n 1) (cdr seq))))))\n",
    "    (define drop (lambda (n seq) (if (<= n 0) seq (drop (- n 1) (cdr seq)))))\n",
    "    (define mid (lambda (seq) (/ (length seq) 2)))\n",
    "    ((combine append) (take (mid deck) deck) (drop (mid deck) deck)))))\"\"\"\n",
    "    \n",
    "eval(parse(combine))\n",
    "eval(parse(shuffle))\n",
    "eval(parse(\"(riff-shuffle (list 1 2 3 4 5 6 7 8))\"))"
   ]
  },
  {
   "cell_type": "code",
   "execution_count": 75,
   "metadata": {},
   "outputs": [
    {
     "data": {
      "text/plain": [
       "[11, 12, 13]"
      ]
     },
     "execution_count": 75,
     "metadata": {},
     "output_type": "execute_result"
    }
   ],
   "source": [
    "eval(parse(\"(list (a 10)(b 10)(c 10))\"))"
   ]
  },
  {
   "cell_type": "code",
   "execution_count": 76,
   "metadata": {},
   "outputs": [
    {
     "data": {
      "text/plain": [
       "['list', ['a', 10], ['b', 10], ['c', 10]]"
      ]
     },
     "execution_count": 76,
     "metadata": {},
     "output_type": "execute_result"
    }
   ],
   "source": [
    "parse(\"(list (a 10)(b 10)(c 10))\")"
   ]
  },
  {
   "cell_type": "code",
   "execution_count": 77,
   "metadata": {},
   "outputs": [
    {
     "data": {
      "text/plain": [
       "['a', ['b', ['c', 10]]]"
      ]
     },
     "execution_count": 77,
     "metadata": {},
     "output_type": "execute_result"
    }
   ],
   "source": [
    "parse(\"(a (b (c 10)))\")"
   ]
  },
  {
   "cell_type": "code",
   "execution_count": 87,
   "metadata": {},
   "outputs": [
    {
     "data": {
      "text/plain": [
       "['d', ['b', ['c', 10]]]"
      ]
     },
     "execution_count": 87,
     "metadata": {},
     "output_type": "execute_result"
    }
   ],
   "source": [
    "parse(\"(d (b (c 10)))\")"
   ]
  },
  {
   "cell_type": "code",
   "execution_count": 81,
   "metadata": {},
   "outputs": [
    {
     "data": {
      "text/plain": [
       "15"
      ]
     },
     "execution_count": 81,
     "metadata": {},
     "output_type": "execute_result"
    }
   ],
   "source": [
    "random = \"(define bc (lambda (x) (b (c x))))\"\n",
    "eval(parse(random))\n",
    "eval(parse(\"(bc 10)\"))"
   ]
  },
  {
   "cell_type": "code",
   "execution_count": 88,
   "metadata": {},
   "outputs": [
    {
     "data": {
      "text/plain": [
       "19"
      ]
     },
     "execution_count": 88,
     "metadata": {},
     "output_type": "execute_result"
    }
   ],
   "source": [
    "eval(parse(\"(a (bc 10))\"))"
   ]
  },
  {
   "cell_type": "code",
   "execution_count": 89,
   "metadata": {},
   "outputs": [
    {
     "data": {
      "text/plain": [
       "19"
      ]
     },
     "execution_count": 89,
     "metadata": {},
     "output_type": "execute_result"
    }
   ],
   "source": [
    "eval(parse(\"(d (bc 10))\"))"
   ]
  },
  {
   "cell_type": "code",
   "execution_count": 61,
   "metadata": {},
   "outputs": [
    {
     "data": {
      "image/png": "[encoded data removed]",
      "text/plain": [
       "<Figure size 640x480 with 1 Axes>"
      ]
     },
     "metadata": {},
     "output_type": "display_data"
    }
   ],
   "source": [
    "import networkx as nx\n",
    "\n",
    "def nested_list_to_graph(nested_list):\n",
    "    G = nx.Graph()\n",
    "    def add_edges(lst, parent=None):\n",
    "        for i, item in enumerate(lst):\n",
    "            if isinstance(item, list):\n",
    "                add_edges(item, parent=i)\n",
    "            else:\n",
    "                if parent is not None:\n",
    "                    G.add_edge(parent, item)\n",
    "    add_edges(nested_list)\n",
    "    return G\n",
    "\n",
    "nested_list = ['a', ['b', ['c', 10]]]\n",
    "G = nested_list_to_graph(nested_list)\n",
    "nx.draw(G, with_labels=True)\n"
   ]
  },
  {
   "cell_type": "code",
   "execution_count": 24,
   "metadata": {},
   "outputs": [
    {
     "name": "stdout",
     "output_type": "stream",
     "text": [
      "[fn_0() := (+ 3), fn_1(#0,#1) := (* #1 (fn_0 #0))]\n",
      "['(lam (fn_0 (* (fn_0 4) 2)))', '(lam (map (lam (fn_0 (fn_1 $0 4))) $0))', '(lam (fn_1 (fn_1 1 $0) 2))']\n"
     ]
    }
   ],
   "source": [
    "from stitch_core import compress\n",
    "\n",
    "programs = [\n",
    "    \"(lam (+ 3 (* (+ 3 4) 2)))\",\n",
    "    \"(lam (map (lam (+ 3 (* 4 (+ 3 $0)))) $0))\",\n",
    "    \"(lam (* 2 (+ 3 (* $0 (+ 3 1)))))\"\n",
    "]\n",
    "\n",
    "res = compress(programs, iterations=2, max_arity=2)\n",
    "print(res.abstractions)\n",
    "print(res.rewritten)"
   ]
  },
  {
   "cell_type": "code",
   "execution_count": 19,
   "metadata": {},
   "outputs": [
    {
     "data": {
      "text/plain": [
       "[fn_0(#0,#1) := (+ 3 (* #1 #0)), fn_1() := (+ 2)]"
      ]
     },
     "execution_count": 19,
     "metadata": {},
     "output_type": "execute_result"
    }
   ],
   "source": [
    "res.abstractions"
   ]
  },
  {
   "cell_type": "code",
   "execution_count": 16,
   "metadata": {},
   "outputs": [
    {
     "ename": "LookupError",
     "evalue": "$0",
     "output_type": "error",
     "traceback": [
      "\u001b[0;31m---------------------------------------------------------------------------\u001b[0m",
      "\u001b[0;31mLookupError\u001b[0m                               Traceback (most recent call last)",
      "Cell \u001b[0;32mIn [16], line 8\u001b[0m\n\u001b[1;32m      5\u001b[0m node1 \u001b[39m=\u001b[39m \u001b[39m\"\u001b[39m\u001b[39m(lam (* 2 (+ 3 (* $0 (+ 2 1)))))\u001b[39m\u001b[39m\"\u001b[39m\n\u001b[1;32m      7\u001b[0m \u001b[39meval\u001b[39m(parse(lambda_fn))\n\u001b[0;32m----> 8\u001b[0m \u001b[39meval\u001b[39;49m(parse(node1))\n",
      "File \u001b[0;32m~/Maya/ml/repositories/plastic-memory/experimental/lisp.py:210\u001b[0m, in \u001b[0;36meval\u001b[0;34m(x, env)\u001b[0m\n\u001b[1;32m    208\u001b[0m     x \u001b[39m=\u001b[39m x[\u001b[39m-\u001b[39m\u001b[39m1\u001b[39m]\n\u001b[1;32m    209\u001b[0m \u001b[39melse\u001b[39;00m:                    \u001b[39m# (proc exp*)\u001b[39;00m\n\u001b[0;32m--> 210\u001b[0m     exps \u001b[39m=\u001b[39m [\u001b[39meval\u001b[39m(exp, env) \u001b[39mfor\u001b[39;00m exp \u001b[39min\u001b[39;00m x]\n\u001b[1;32m    211\u001b[0m     proc \u001b[39m=\u001b[39m exps\u001b[39m.\u001b[39mpop(\u001b[39m0\u001b[39m)\n\u001b[1;32m    212\u001b[0m     \u001b[39mif\u001b[39;00m isa(proc, Procedure):\n",
      "File \u001b[0;32m~/Maya/ml/repositories/plastic-memory/experimental/lisp.py:210\u001b[0m, in \u001b[0;36m<listcomp>\u001b[0;34m(.0)\u001b[0m\n\u001b[1;32m    208\u001b[0m     x \u001b[39m=\u001b[39m x[\u001b[39m-\u001b[39m\u001b[39m1\u001b[39m]\n\u001b[1;32m    209\u001b[0m \u001b[39melse\u001b[39;00m:                    \u001b[39m# (proc exp*)\u001b[39;00m\n\u001b[0;32m--> 210\u001b[0m     exps \u001b[39m=\u001b[39m [\u001b[39meval\u001b[39;49m(exp, env) \u001b[39mfor\u001b[39;00m exp \u001b[39min\u001b[39;00m x]\n\u001b[1;32m    211\u001b[0m     proc \u001b[39m=\u001b[39m exps\u001b[39m.\u001b[39mpop(\u001b[39m0\u001b[39m)\n\u001b[1;32m    212\u001b[0m     \u001b[39mif\u001b[39;00m isa(proc, Procedure):\n",
      "File \u001b[0;32m~/Maya/ml/repositories/plastic-memory/experimental/lisp.py:210\u001b[0m, in \u001b[0;36meval\u001b[0;34m(x, env)\u001b[0m\n\u001b[1;32m    208\u001b[0m     x \u001b[39m=\u001b[39m x[\u001b[39m-\u001b[39m\u001b[39m1\u001b[39m]\n\u001b[1;32m    209\u001b[0m \u001b[39melse\u001b[39;00m:                    \u001b[39m# (proc exp*)\u001b[39;00m\n\u001b[0;32m--> 210\u001b[0m     exps \u001b[39m=\u001b[39m [\u001b[39meval\u001b[39m(exp, env) \u001b[39mfor\u001b[39;00m exp \u001b[39min\u001b[39;00m x]\n\u001b[1;32m    211\u001b[0m     proc \u001b[39m=\u001b[39m exps\u001b[39m.\u001b[39mpop(\u001b[39m0\u001b[39m)\n\u001b[1;32m    212\u001b[0m     \u001b[39mif\u001b[39;00m isa(proc, Procedure):\n",
      "File \u001b[0;32m~/Maya/ml/repositories/plastic-memory/experimental/lisp.py:210\u001b[0m, in \u001b[0;36m<listcomp>\u001b[0;34m(.0)\u001b[0m\n\u001b[1;32m    208\u001b[0m     x \u001b[39m=\u001b[39m x[\u001b[39m-\u001b[39m\u001b[39m1\u001b[39m]\n\u001b[1;32m    209\u001b[0m \u001b[39melse\u001b[39;00m:                    \u001b[39m# (proc exp*)\u001b[39;00m\n\u001b[0;32m--> 210\u001b[0m     exps \u001b[39m=\u001b[39m [\u001b[39meval\u001b[39;49m(exp, env) \u001b[39mfor\u001b[39;00m exp \u001b[39min\u001b[39;00m x]\n\u001b[1;32m    211\u001b[0m     proc \u001b[39m=\u001b[39m exps\u001b[39m.\u001b[39mpop(\u001b[39m0\u001b[39m)\n\u001b[1;32m    212\u001b[0m     \u001b[39mif\u001b[39;00m isa(proc, Procedure):\n",
      "    \u001b[0;31m[... skipping similar frames: <listcomp> at line 210 (1 times), eval at line 210 (1 times)]\u001b[0m\n",
      "File \u001b[0;32m~/Maya/ml/repositories/plastic-memory/experimental/lisp.py:210\u001b[0m, in \u001b[0;36meval\u001b[0;34m(x, env)\u001b[0m\n\u001b[1;32m    208\u001b[0m     x \u001b[39m=\u001b[39m x[\u001b[39m-\u001b[39m\u001b[39m1\u001b[39m]\n\u001b[1;32m    209\u001b[0m \u001b[39melse\u001b[39;00m:                    \u001b[39m# (proc exp*)\u001b[39;00m\n\u001b[0;32m--> 210\u001b[0m     exps \u001b[39m=\u001b[39m [\u001b[39meval\u001b[39m(exp, env) \u001b[39mfor\u001b[39;00m exp \u001b[39min\u001b[39;00m x]\n\u001b[1;32m    211\u001b[0m     proc \u001b[39m=\u001b[39m exps\u001b[39m.\u001b[39mpop(\u001b[39m0\u001b[39m)\n\u001b[1;32m    212\u001b[0m     \u001b[39mif\u001b[39;00m isa(proc, Procedure):\n",
      "File \u001b[0;32m~/Maya/ml/repositories/plastic-memory/experimental/lisp.py:210\u001b[0m, in \u001b[0;36m<listcomp>\u001b[0;34m(.0)\u001b[0m\n\u001b[1;32m    208\u001b[0m     x \u001b[39m=\u001b[39m x[\u001b[39m-\u001b[39m\u001b[39m1\u001b[39m]\n\u001b[1;32m    209\u001b[0m \u001b[39melse\u001b[39;00m:                    \u001b[39m# (proc exp*)\u001b[39;00m\n\u001b[0;32m--> 210\u001b[0m     exps \u001b[39m=\u001b[39m [\u001b[39meval\u001b[39;49m(exp, env) \u001b[39mfor\u001b[39;00m exp \u001b[39min\u001b[39;00m x]\n\u001b[1;32m    211\u001b[0m     proc \u001b[39m=\u001b[39m exps\u001b[39m.\u001b[39mpop(\u001b[39m0\u001b[39m)\n\u001b[1;32m    212\u001b[0m     \u001b[39mif\u001b[39;00m isa(proc, Procedure):\n",
      "File \u001b[0;32m~/Maya/ml/repositories/plastic-memory/experimental/lisp.py:185\u001b[0m, in \u001b[0;36meval\u001b[0;34m(x, env)\u001b[0m\n\u001b[1;32m    183\u001b[0m \u001b[39mwhile\u001b[39;00m \u001b[39mTrue\u001b[39;00m:\n\u001b[1;32m    184\u001b[0m     \u001b[39mif\u001b[39;00m isa(x, Symbol):       \u001b[39m# variable reference\u001b[39;00m\n\u001b[0;32m--> 185\u001b[0m         \u001b[39mreturn\u001b[39;00m env\u001b[39m.\u001b[39;49mfind(x)[x]\n\u001b[1;32m    186\u001b[0m     \u001b[39melif\u001b[39;00m \u001b[39mnot\u001b[39;00m isa(x, \u001b[39mlist\u001b[39m):   \u001b[39m# constant literal\u001b[39;00m\n\u001b[1;32m    187\u001b[0m         \u001b[39mreturn\u001b[39;00m x\n",
      "File \u001b[0;32m~/Maya/ml/repositories/plastic-memory/experimental/lisp.py:137\u001b[0m, in \u001b[0;36mEnv.find\u001b[0;34m(self, var)\u001b[0m\n\u001b[1;32m    135\u001b[0m \u001b[39m\"\u001b[39m\u001b[39mFind the innermost Env where var appears.\u001b[39m\u001b[39m\"\u001b[39m\n\u001b[1;32m    136\u001b[0m \u001b[39mif\u001b[39;00m var \u001b[39min\u001b[39;00m \u001b[39mself\u001b[39m: \u001b[39mreturn\u001b[39;00m \u001b[39mself\u001b[39m\n\u001b[0;32m--> 137\u001b[0m \u001b[39melif\u001b[39;00m \u001b[39mself\u001b[39m\u001b[39m.\u001b[39mouter \u001b[39mis\u001b[39;00m \u001b[39mNone\u001b[39;00m: \u001b[39mraise\u001b[39;00m \u001b[39mLookupError\u001b[39;00m(var)\n\u001b[1;32m    138\u001b[0m \u001b[39melse\u001b[39;00m: \u001b[39mreturn\u001b[39;00m \u001b[39mself\u001b[39m\u001b[39m.\u001b[39mouter\u001b[39m.\u001b[39mfind(var)\n",
      "\u001b[0;31mLookupError\u001b[0m: $0"
     ]
    }
   ],
   "source": [
    "from lisp import parse, eval\n",
    "\n",
    "lambda_fn = \"(define lam (lambda (x) x))\"\n",
    "\n",
    "node1 = \"(lam (* 2 (+ 3 (* $0 (+ 2 1)))))\"\n",
    "\n",
    "eval(parse(lambda_fn))\n",
    "eval(parse(node1))"
   ]
  },
  {
   "cell_type": "code",
   "execution_count": 8,
   "metadata": {},
   "outputs": [
    {
     "data": {
      "text/plain": [
       "[fn_0(#0,#1) := (+ 3 (* #1 #0)), fn_1() := (+ 2)]"
      ]
     },
     "execution_count": 8,
     "metadata": {},
     "output_type": "execute_result"
    }
   ],
   "source": [
    "res.abstractions"
   ]
  },
  {
   "cell_type": "code",
   "execution_count": 30,
   "metadata": {},
   "outputs": [
    {
     "name": "stdout",
     "output_type": "stream",
     "text": [
      "[fn_0(#0,#1) := (lam (node_a (node_b (#1 (#0 $0)))))]\n",
      "['(fn_0 node_e node_c)', '(fn_0 node_f node_d)']\n"
     ]
    }
   ],
   "source": [
    "from stitch_core import compress\n",
    "\n",
    "programs = [\n",
    "    \"(lam (node_a (node_b (node_c (node_e $0)))))\",\n",
    "    \"(lam (node_a (node_b (node_d (node_f $0)))))\"\n",
    "    \n",
    "]\n",
    "\n",
    "res = compress(programs, iterations=2, max_arity=2)\n",
    "print(res.abstractions)\n",
    "print(res.rewritten)"
   ]
  },
  {
   "cell_type": "code",
   "execution_count": null,
   "metadata": {},
   "outputs": [],
   "source": [
    "names = [\"rohan\", \"mohan\", \"macmohan\"]\n",
    "\n",
    "import string\n",
    "\n",
    "func_list = [\"(define a (lambda (x) (+ 1 x)))\" for (i,x) in enumerate(string.ascii_lowercase)]"
   ]
  }
 ],
 "metadata": {
  "kernelspec": {
   "display_name": "Python 3.8.13 ('asg')",
   "language": "python",
   "name": "python3"
  },
  "language_info": {
   "codemirror_mode": {
    "name": "ipython",
    "version": 3
   },
   "file_extension": ".py",
   "mimetype": "text/x-python",
   "name": "python",
   "nbconvert_exporter": "python",
   "pygments_lexer": "ipython3",
   "version": "3.8.13"
  },
  "orig_nbformat": 4,
  "vscode": {
   "interpreter": {
    "hash": "88bec10c64c6448362bb41760fd69305840484a7db41644db55749e196c77cae"
   }
  }
 },
 "nbformat": 4,
 "nbformat_minor": 2
}
