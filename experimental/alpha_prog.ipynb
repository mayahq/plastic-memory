{
 "cells": [
  {
   "cell_type": "code",
   "execution_count": 6,
   "metadata": {},
   "outputs": [
    {
     "data": {
      "text/plain": [
       "6"
      ]
     },
     "execution_count": 6,
     "metadata": {},
     "output_type": "execute_result"
    }
   ],
   "source": [
    "import string\n",
    "from lisp import parse, eval\n",
    "## define a set of functions for all alphabets\n",
    "## e.g. for 1st alphabet a, we define a function (define run_a (lambda (x) (+ 1 x)))\n",
    "func_list = [r'(define run_%s (lambda (x) (+ %s x)))' % (str(x), str(i + 1)) for (i,x) in enumerate(string.ascii_lowercase)]\n",
    "\n",
    "## add them to the context by evaluating them\n",
    "for func in func_list:\n",
    "    eval(parse(func))\n",
    "\n",
    "## now when you run this program, it should output 1 + 2 + 3 = 6\n",
    "eval(parse(\"(run_a (run_b (run_c 0)))\"))"
   ]
  },
  {
   "cell_type": "code",
   "execution_count": 13,
   "metadata": {},
   "outputs": [
    {
     "name": "stdout",
     "output_type": "stream",
     "text": [
      "(run_m (run_o (run_h (run_a (run_n  0)))))\n"
     ]
    },
    {
     "data": {
      "text/plain": [
       "51"
      ]
     },
     "execution_count": 13,
     "metadata": {},
     "output_type": "execute_result"
    }
   ],
   "source": [
    "# we define something that let's us convert any name to the corresponding program\n",
    "def name_to_fn(name):\n",
    "    program = \"\"\n",
    "    for i, char in enumerate(name):\n",
    "        program += \"(run_\" + char + \" \"\n",
    "        if i == len(name) - 1:\n",
    "            program += \" 0\"\n",
    "\n",
    "    for char in name:\n",
    "        program += \")\"\n",
    "    return program\n",
    "\n",
    "#let's see what a program from a name looks like\n",
    "print(name_to_fn(\"mohan\"))\n",
    "# let's try running it, should output 51\n",
    "eval(parse(name_to_fn(\"mohan\")))"
   ]
  },
  {
   "cell_type": "code",
   "execution_count": 15,
   "metadata": {},
   "outputs": [
    {
     "data": {
      "text/plain": [
       "['(run_m (run_o (run_h (run_a (run_n  0)))))',\n",
       " '(run_r (run_o (run_h (run_a (run_n  0)))))',\n",
       " '(run_m (run_a (run_c (run_m (run_o (run_h (run_a (run_n  0))))))))']"
      ]
     },
     "execution_count": 15,
     "metadata": {},
     "output_type": "execute_result"
    }
   ],
   "source": [
    "names = [\"mohan\", \"rohan\", \"macmohan\"]\n",
    "name_progs = [name_to_fn(name) for name in names]\n",
    "name_progs"
   ]
  },
  {
   "cell_type": "code",
   "execution_count": 21,
   "metadata": {},
   "outputs": [
    {
     "name": "stdout",
     "output_type": "stream",
     "text": [
      "[fn_0() := (run_o (run_h (run_a (run_n 0)))), fn_1() := (run_m fn_0)]\n",
      "['fn_1', '(run_r fn_0)', '(run_m (run_a (run_c fn_1)))']\n"
     ]
    }
   ],
   "source": [
    "from stitch_core import compress\n",
    "\n",
    "adapted_name_progs = [name_prog for name_prog in name_progs]\n",
    "\n",
    "res = compress(adapted_name_progs, iterations=2, max_arity=2)\n",
    "print(res.abstractions)\n",
    "print(res.rewritten)"
   ]
  },
  {
   "cell_type": "code",
   "execution_count": null,
   "metadata": {},
   "outputs": [],
   "source": []
  }
 ],
 "metadata": {
  "kernelspec": {
   "display_name": "Python 3.8.13 ('base')",
   "language": "python",
   "name": "python3"
  },
  "language_info": {
   "codemirror_mode": {
    "name": "ipython",
    "version": 3
   },
   "file_extension": ".py",
   "mimetype": "text/x-python",
   "name": "python",
   "nbconvert_exporter": "python",
   "pygments_lexer": "ipython3",
   "version": "3.8.13"
  },
  "orig_nbformat": 4,
  "vscode": {
   "interpreter": {
    "hash": "88bec10c64c6448362bb41760fd69305840484a7db41644db55749e196c77cae"
   }
  }
 },
 "nbformat": 4,
 "nbformat_minor": 2
}
